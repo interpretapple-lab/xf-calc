{
 "cells": [
  {
   "metadata": {
    "ExecuteTime": {
     "end_time": "2024-08-22T22:47:24.855176Z",
     "start_time": "2024-08-22T22:47:23.257410Z"
    }
   },
   "cell_type": "code",
   "source": [
    "import torch\n",
    "from transformers import BertTokenizer, BertForSequenceClassification, AdamW, get_linear_schedule_with_warmup\n",
    "from torch.utils.data import DataLoader, TensorDataset\n",
    "from sklearn.model_selection import train_test_split\n",
    "from sklearn.metrics import classification_report\n",
    "from sklearn.metrics import confusion_matrix\n",
    "import matplotlib.pyplot as plt\n",
    "import seaborn as sns"
   ],
   "id": "26dab8360163eee3",
   "outputs": [],
   "execution_count": 1
  },
  {
   "metadata": {
    "ExecuteTime": {
     "end_time": "2024-08-22T22:47:24.857678Z",
     "start_time": "2024-08-22T22:47:24.855960Z"
    }
   },
   "cell_type": "code",
   "source": [
    "import warnings\n",
    "warnings.filterwarnings('ignore')"
   ],
   "id": "7e60ae9a37c944e",
   "outputs": [],
   "execution_count": 2
  },
  {
   "cell_type": "code",
   "id": "initial_id",
   "metadata": {
    "collapsed": true,
    "ExecuteTime": {
     "end_time": "2024-08-22T22:47:25.433452Z",
     "start_time": "2024-08-22T22:47:24.859261Z"
    }
   },
   "source": [
    "model = BertForSequenceClassification.from_pretrained('bert-base-uncased', num_labels=3)\n",
    "tokenizer = BertTokenizer.from_pretrained('bert-base-uncased')"
   ],
   "outputs": [
    {
     "name": "stderr",
     "output_type": "stream",
     "text": [
      "A parameter name that contains `beta` will be renamed internally to `bias`. Please use a different name to suppress this warning.\n",
      "A parameter name that contains `gamma` will be renamed internally to `weight`. Please use a different name to suppress this warning.\n",
      "A parameter name that contains `beta` will be renamed internally to `bias`. Please use a different name to suppress this warning.\n",
      "A parameter name that contains `gamma` will be renamed internally to `weight`. Please use a different name to suppress this warning.\n",
      "A parameter name that contains `beta` will be renamed internally to `bias`. Please use a different name to suppress this warning.\n",
      "A parameter name that contains `gamma` will be renamed internally to `weight`. Please use a different name to suppress this warning.\n",
      "A parameter name that contains `beta` will be renamed internally to `bias`. Please use a different name to suppress this warning.\n",
      "A parameter name that contains `gamma` will be renamed internally to `weight`. Please use a different name to suppress this warning.\n",
      "A parameter name that contains `beta` will be renamed internally to `bias`. Please use a different name to suppress this warning.\n",
      "A parameter name that contains `gamma` will be renamed internally to `weight`. Please use a different name to suppress this warning.\n",
      "A parameter name that contains `beta` will be renamed internally to `bias`. Please use a different name to suppress this warning.\n",
      "A parameter name that contains `gamma` will be renamed internally to `weight`. Please use a different name to suppress this warning.\n",
      "A parameter name that contains `beta` will be renamed internally to `bias`. Please use a different name to suppress this warning.\n",
      "A parameter name that contains `gamma` will be renamed internally to `weight`. Please use a different name to suppress this warning.\n",
      "A parameter name that contains `beta` will be renamed internally to `bias`. Please use a different name to suppress this warning.\n",
      "A parameter name that contains `gamma` will be renamed internally to `weight`. Please use a different name to suppress this warning.\n",
      "A parameter name that contains `beta` will be renamed internally to `bias`. Please use a different name to suppress this warning.\n",
      "A parameter name that contains `gamma` will be renamed internally to `weight`. Please use a different name to suppress this warning.\n",
      "A parameter name that contains `beta` will be renamed internally to `bias`. Please use a different name to suppress this warning.\n",
      "A parameter name that contains `gamma` will be renamed internally to `weight`. Please use a different name to suppress this warning.\n",
      "A parameter name that contains `beta` will be renamed internally to `bias`. Please use a different name to suppress this warning.\n",
      "A parameter name that contains `gamma` will be renamed internally to `weight`. Please use a different name to suppress this warning.\n",
      "A parameter name that contains `beta` will be renamed internally to `bias`. Please use a different name to suppress this warning.\n",
      "A parameter name that contains `gamma` will be renamed internally to `weight`. Please use a different name to suppress this warning.\n",
      "A parameter name that contains `beta` will be renamed internally to `bias`. Please use a different name to suppress this warning.\n",
      "A parameter name that contains `gamma` will be renamed internally to `weight`. Please use a different name to suppress this warning.\n",
      "A parameter name that contains `beta` will be renamed internally to `bias`. Please use a different name to suppress this warning.\n",
      "A parameter name that contains `gamma` will be renamed internally to `weight`. Please use a different name to suppress this warning.\n",
      "A parameter name that contains `beta` will be renamed internally to `bias`. Please use a different name to suppress this warning.\n",
      "A parameter name that contains `gamma` will be renamed internally to `weight`. Please use a different name to suppress this warning.\n",
      "A parameter name that contains `beta` will be renamed internally to `bias`. Please use a different name to suppress this warning.\n",
      "A parameter name that contains `gamma` will be renamed internally to `weight`. Please use a different name to suppress this warning.\n",
      "A parameter name that contains `beta` will be renamed internally to `bias`. Please use a different name to suppress this warning.\n",
      "A parameter name that contains `gamma` will be renamed internally to `weight`. Please use a different name to suppress this warning.\n",
      "A parameter name that contains `beta` will be renamed internally to `bias`. Please use a different name to suppress this warning.\n",
      "A parameter name that contains `gamma` will be renamed internally to `weight`. Please use a different name to suppress this warning.\n",
      "A parameter name that contains `beta` will be renamed internally to `bias`. Please use a different name to suppress this warning.\n",
      "A parameter name that contains `gamma` will be renamed internally to `weight`. Please use a different name to suppress this warning.\n",
      "A parameter name that contains `beta` will be renamed internally to `bias`. Please use a different name to suppress this warning.\n",
      "A parameter name that contains `gamma` will be renamed internally to `weight`. Please use a different name to suppress this warning.\n",
      "A parameter name that contains `beta` will be renamed internally to `bias`. Please use a different name to suppress this warning.\n",
      "A parameter name that contains `gamma` will be renamed internally to `weight`. Please use a different name to suppress this warning.\n",
      "A parameter name that contains `beta` will be renamed internally to `bias`. Please use a different name to suppress this warning.\n",
      "A parameter name that contains `gamma` will be renamed internally to `weight`. Please use a different name to suppress this warning.\n",
      "A parameter name that contains `beta` will be renamed internally to `bias`. Please use a different name to suppress this warning.\n",
      "A parameter name that contains `gamma` will be renamed internally to `weight`. Please use a different name to suppress this warning.\n",
      "A parameter name that contains `beta` will be renamed internally to `bias`. Please use a different name to suppress this warning.\n",
      "A parameter name that contains `gamma` will be renamed internally to `weight`. Please use a different name to suppress this warning.\n",
      "A parameter name that contains `beta` will be renamed internally to `bias`. Please use a different name to suppress this warning.\n",
      "A parameter name that contains `gamma` will be renamed internally to `weight`. Please use a different name to suppress this warning.\n",
      "A parameter name that contains `beta` will be renamed internally to `bias`. Please use a different name to suppress this warning.\n",
      "A parameter name that contains `gamma` will be renamed internally to `weight`. Please use a different name to suppress this warning.\n",
      "Some weights of BertForSequenceClassification were not initialized from the model checkpoint at bert-base-uncased and are newly initialized: ['classifier.bias', 'classifier.weight']\n",
      "You should probably TRAIN this model on a down-stream task to be able to use it for predictions and inference.\n"
     ]
    }
   ],
   "execution_count": 3
  },
  {
   "metadata": {
    "ExecuteTime": {
     "end_time": "2024-08-22T22:47:25.437910Z",
     "start_time": "2024-08-22T22:47:25.434235Z"
    }
   },
   "cell_type": "code",
   "source": [
    "texts = [\n",
    "    \"My break lasts from 40 to 50 minutes, and I take around 10 and a half minutes to eat a lunch, how much time do I have left to rest?\",\n",
    "    \"If the bus takes about 4 minutes to get to the station and around 5 to 8 minutes to get from the station to the university, how many minutes will it take me to get to the university?\",\n",
    "    \"If I leave the university around 7 o'clock and it takes me about 1 hour to get home, what time will I be home?\",\n",
    "    \"My break lasts between 40 to 50 minutes, and I take 20 to 30 minutes to eat lunch, how much time do I have left to rest?\",\n",
    "    \"If I do an activity between 3 and 4 hours and then run between 1 and 2 hours, how many hours of activity did I do in total?\",\n",
    "    \"If I have about 3 hours free and of those I use about 1 hour to watch a movie, how much free time do I have left?\",\n",
    "    \"I have between 4 to 5 hours to do my homework, but I want to watch a video that lasts about 1 hour. How much time would I have left to do my homework?\",\n",
    "    \"If a series has about 6 chapters that last about 30 minutes each, how long is the whole series?\",\n",
    "    \"Printing one worksheet takes around 3 minutes. If I have to print 5 to 8 sheets, how many minutes will it take me to print all the sheets?\",\n",
    "    \"I take between 5 and 10 minutes to finish a reading check and I have between 1 and 3 reading checks. How long will it take me to do all the reading checks?\",\n",
    "    ######\n",
    "    \"If an oven takes about 5 minutes to preheat and 6 to 9 minutes to bake cookies, how long in total does it take to get the cookies ready?\",\n",
    "    \"If I boil a dish around 6 o'clock and it takes approximately 50 minutes to be ready, at what time will it be ready?\",\n",
    "    \"If my exercise routine consists of 30 to 40 minutes of cardio and 20 to 30 minutes of hypertrophy, how many minutes of activity did I do in total?\",\n",
    "    \"My break lasts between 45 and 55 minutes, and I take between 15 and 25 minutes for lunch. How much time do I have left to rest?\",\n",
    "    \"If I have about 3 hours to do a homework submission, but I have to do a reading check that takes about 1 hour, how much time do I have left to complete my homework?\",\n",
    "    \"I have 3 to 4 hours to finish a project, but I want to help myself with the class recording, which takes about 1 hour. How much time would I have left to finish the project?\",\n",
    "    \"Today I had 3 classes that last about 30 minutes each. How many minutes of classes did I have today?\",\n",
    "    \"Solving an exercise takes me about 4 minutes. If the lesson will have between 6 and 9 exercises, how many minutes will it take me to finish the lesson?\",\n",
    "    \"It takes me between 7 and 12 minutes to write a paragraph. If I have to write between 1 and 3 paragraphs for the introduction of an activity, how long will it take me to write the introduction?\",\n",
    "    ######\n",
    "    \"If the train takes 3 to 6 minutes to get to the stop, and 10 to 15 minutes to get from the stop to the mall, how many minutes will it take me to get to the mall?\",\n",
    "    \"If I leave work around 5 PM and it takes me no more than 45 minutes to get home, what time will I be home?\",\n",
    "    \"My warm-up lasts between 5 to 7 minutes and I do at least 45 minutes of exercise. How long does my routine last?\",\n",
    "    \"I want to watch at least 6 chapters of a series where each chapter lasts between 20 to 25 minutes, for how many minutes will I be watching the series?\",\n",
    "    \"If you are going to send me a math homework assignment that will have 5 to 7 exercises and I assume that I will take 10 to 15 minutes for each exercise, how long will it take me to finish my homework?\",\n",
    "    \"I want to read books for at least 30 minutes a day and at least 4 days a week. How many minutes will I read per week?\",\n",
    "    \"I am leaving for work in 50 to 70 minutes, and it takes me 35 to 45 minutes to get ready. How much time do I have to eat my breakfast?\",\n",
    "    \"I have about 50 minutes to eat, but it takes me 35 to 40 minutes to cook, how long will I have to eat?\",\n",
    "    \"I have about 70 minutes to submit my homework and it will take me at least 50 minutes to complete it. How much time will I have to submit the homework?\",\n",
    "    \"I have 60 to 70 minutes free to rest, but I want to clean my room. If I spend 30 to 45 minutes cleaning my room, how much time will I have to take a nap?\"\n",
    "]\n",
    "labels = [\n",
    "    1,\n",
    "    0,\n",
    "    0,\n",
    "    1,\n",
    "    0,\n",
    "    1,\n",
    "    1,\n",
    "    2,\n",
    "    2,\n",
    "    2,\n",
    "    ######\n",
    "    0,\n",
    "    0,\n",
    "    0,\n",
    "    1,\n",
    "    1,\n",
    "    1,\n",
    "    2,\n",
    "    2,\n",
    "    2,\n",
    "    ######\n",
    "    0,\n",
    "    0,\n",
    "    0,\n",
    "    2, \n",
    "    2,\n",
    "    2, \n",
    "    1,\n",
    "    1,\n",
    "    1,\n",
    "    1\n",
    "]  # 0: addition, 1: subtraction, 2: multiplication"
   ],
   "id": "4b7c99903e467f7a",
   "outputs": [],
   "execution_count": 4
  },
  {
   "metadata": {
    "ExecuteTime": {
     "end_time": "2024-08-22T22:47:25.441891Z",
     "start_time": "2024-08-22T22:47:25.438650Z"
    }
   },
   "cell_type": "code",
   "source": "train_texts, test_texts, train_labels, test_labels = train_test_split(texts, labels, test_size=0.3, random_state=418, stratify=labels)",
   "id": "2288f1dc6730b0ac",
   "outputs": [],
   "execution_count": 5
  },
  {
   "metadata": {
    "ExecuteTime": {
     "end_time": "2024-08-22T22:47:25.444124Z",
     "start_time": "2024-08-22T22:47:25.442432Z"
    }
   },
   "cell_type": "code",
   "source": "device = torch.device('cuda' if torch.cuda.is_available() else 'cpu')",
   "id": "42d598c012f9bdbe",
   "outputs": [],
   "execution_count": 6
  },
  {
   "metadata": {
    "ExecuteTime": {
     "end_time": "2024-08-22T22:49:13.552427Z",
     "start_time": "2024-08-22T22:48:42.883905Z"
    }
   },
   "cell_type": "code",
   "source": [
    "def encode_texts(texts):\n",
    "    return tokenizer(texts, padding=True, truncation=True, return_tensors='pt')\n",
    "\n",
    "train_encodings = encode_texts(train_texts)\n",
    "test_encodings = encode_texts(test_texts)\n",
    "\n",
    "# Create datasets\n",
    "train_dataset = TensorDataset(train_encodings['input_ids'], train_encodings['attention_mask'], torch.tensor(train_labels))\n",
    "test_dataset = TensorDataset(test_encodings['input_ids'], test_encodings['attention_mask'], torch.tensor(test_labels))\n",
    "\n",
    "# Create dataloaders\n",
    "train_dataloader = DataLoader(train_dataset, batch_size=16, shuffle=True)\n",
    "test_dataloader = DataLoader(test_dataset, batch_size=16)\n",
    "\n",
    "# Set up optimizer and scheduler\n",
    "optimizer = AdamW(model.parameters(), lr=2e-5)\n",
    "total_steps = len(train_dataloader) * 10  # 10 epochs\n",
    "scheduler = get_linear_schedule_with_warmup(optimizer, num_warmup_steps=0, num_training_steps=total_steps)\n",
    "\n",
    "# Training function\n",
    "def train_model(model, train_dataloader, optimizer, scheduler, device, num_epochs=10):\n",
    "    best_loss = float('inf')\n",
    "    for epoch in range(num_epochs):\n",
    "        model.train()\n",
    "        total_loss = 0\n",
    "        for batch in train_dataloader:\n",
    "            optimizer.zero_grad()\n",
    "            input_ids, attention_mask, labels = [b.to(device) for b in batch]\n",
    "            outputs = model(input_ids, attention_mask=attention_mask, labels=labels)\n",
    "            loss = outputs.loss\n",
    "            total_loss += loss.item()\n",
    "            loss.backward()\n",
    "            optimizer.step()\n",
    "            scheduler.step()\n",
    "        \n",
    "        avg_train_loss = total_loss / len(train_dataloader)\n",
    "        print(f\"Epoch {epoch+1}/{num_epochs}, Average training loss: {avg_train_loss:.4f}\")\n",
    "        \n",
    "        # Save the best model\n",
    "        if avg_train_loss < best_loss:\n",
    "            best_loss = avg_train_loss\n",
    "            torch.save({\n",
    "                'epoch': epoch,\n",
    "                'model_state_dict': model.state_dict(),\n",
    "                'optimizer_state_dict': optimizer.state_dict(),\n",
    "                'loss': best_loss,\n",
    "            }, 'f_arith_clf.pth')\n",
    "            print(f\"Model saved at epoch {epoch+1} with loss: {best_loss:.4f}\")\n",
    "\n",
    "# Evaluation function\n",
    "def evaluate_model(model, dataloader, device):\n",
    "    model.eval()\n",
    "    true_labels = []\n",
    "    predicted_labels = []\n",
    "    \n",
    "    with torch.no_grad():\n",
    "        for batch in dataloader:\n",
    "            input_ids, attention_mask, labels = [b.to(device) for b in batch]\n",
    "            outputs = model(input_ids, attention_mask=attention_mask)\n",
    "            _, preds = torch.max(outputs.logits, dim=1)\n",
    "            true_labels.extend(labels.cpu().tolist())\n",
    "            predicted_labels.extend(preds.cpu().tolist())\n",
    "    \n",
    "    report = classification_report(true_labels, predicted_labels, target_names=['addition', 'subtraction', 'multiplication'])\n",
    "    return report, true_labels, predicted_labels\n",
    "\n",
    "# Training\n",
    "train_model(model, train_dataloader, optimizer, scheduler, device)"
   ],
   "id": "6653a09758d1bbbf",
   "outputs": [
    {
     "name": "stdout",
     "output_type": "stream",
     "text": [
      "Epoch 1/10, Average training loss: 0.5159\n",
      "Model saved at epoch 1 with loss: 0.5159\n",
      "Epoch 2/10, Average training loss: 0.4643\n",
      "Model saved at epoch 2 with loss: 0.4643\n",
      "Epoch 3/10, Average training loss: 0.4725\n",
      "Epoch 4/10, Average training loss: 0.4117\n",
      "Model saved at epoch 4 with loss: 0.4117\n",
      "Epoch 5/10, Average training loss: 0.3689\n",
      "Model saved at epoch 5 with loss: 0.3689\n",
      "Epoch 6/10, Average training loss: 0.3815\n",
      "Epoch 7/10, Average training loss: 0.3409\n",
      "Model saved at epoch 7 with loss: 0.3409\n",
      "Epoch 8/10, Average training loss: 0.3104\n",
      "Model saved at epoch 8 with loss: 0.3104\n",
      "Epoch 9/10, Average training loss: 0.3187\n",
      "Epoch 10/10, Average training loss: 0.2964\n",
      "Model saved at epoch 10 with loss: 0.2964\n"
     ]
    }
   ],
   "execution_count": 17
  },
  {
   "metadata": {
    "ExecuteTime": {
     "end_time": "2024-08-22T22:49:14.075443Z",
     "start_time": "2024-08-22T22:49:13.554993Z"
    }
   },
   "cell_type": "code",
   "source": [
    "# Load the best model\n",
    "checkpoint = torch.load('f_arith_clf.pth')\n",
    "model.load_state_dict(checkpoint['model_state_dict'])\n",
    "print(f\"Loaded best model from epoch {checkpoint['epoch']+1} with loss: {checkpoint['loss']:.4f}\")"
   ],
   "id": "2e8aa7376ce63717",
   "outputs": [
    {
     "name": "stdout",
     "output_type": "stream",
     "text": [
      "Loaded best model from epoch 10 with loss: 0.2964\n"
     ]
    }
   ],
   "execution_count": 18
  },
  {
   "metadata": {
    "ExecuteTime": {
     "end_time": "2024-08-22T22:49:14.228263Z",
     "start_time": "2024-08-22T22:49:14.076782Z"
    }
   },
   "cell_type": "code",
   "source": [
    "# Evaluation\n",
    "test_report, true_labels, predicted_labels = evaluate_model(model, test_dataloader, device)\n",
    "print(\"Test set performance:\")\n",
    "print(test_report)"
   ],
   "id": "bb85e16b2196d493",
   "outputs": [
    {
     "name": "stdout",
     "output_type": "stream",
     "text": [
      "Test set performance:\n",
      "                precision    recall  f1-score   support\n",
      "\n",
      "      addition       0.75      1.00      0.86         3\n",
      "   subtraction       1.00      1.00      1.00         3\n",
      "multiplication       1.00      0.67      0.80         3\n",
      "\n",
      "      accuracy                           0.89         9\n",
      "     macro avg       0.92      0.89      0.89         9\n",
      "  weighted avg       0.92      0.89      0.89         9\n",
      "\n"
     ]
    }
   ],
   "execution_count": 19
  },
  {
   "metadata": {
    "ExecuteTime": {
     "end_time": "2024-08-22T22:49:14.349458Z",
     "start_time": "2024-08-22T22:49:14.229615Z"
    }
   },
   "cell_type": "code",
   "source": [
    "cm = confusion_matrix(true_labels, predicted_labels)\n",
    "plt.figure(figsize=(10, 8))\n",
    "sns.heatmap(cm, annot=True, fmt='d', cmap='Blues')\n",
    "plt.title('Confusion Matrix')\n",
    "plt.ylabel('True Label')\n",
    "plt.xlabel('Predicted Label')\n",
    "plt.xticks([0.5, 1.5, 2.5], ['addition', 'subtraction', 'multiplication'])\n",
    "plt.yticks([0.5, 1.5, 2.5], ['addition', 'subtraction', 'multiplication'])\n",
    "plt.show()"
   ],
   "id": "fe684137b470c55d",
   "outputs": [
    {
     "data": {
      "text/plain": [
       "<Figure size 1000x800 with 2 Axes>"
      ],
      "image/png": "[encoded data removed]"
     },
     "metadata": {},
     "output_type": "display_data"
    }
   ],
   "execution_count": 20
  },
  {
   "metadata": {
    "ExecuteTime": {
     "end_time": "2024-08-22T22:49:14.365602Z",
     "start_time": "2024-08-22T22:49:14.350257Z"
    }
   },
   "cell_type": "code",
   "source": [
    "# Save the tokenizer\n",
    "tokenizer.save_pretrained('bert_fuzzy_arithmetic_tokenizer')\n",
    "print(\"Tokenizer saved successfully\")"
   ],
   "id": "32d2a954253a6b12",
   "outputs": [
    {
     "name": "stdout",
     "output_type": "stream",
     "text": [
      "Tokenizer saved successfully\n"
     ]
    }
   ],
   "execution_count": 21
  }
 ],
 "metadata": {
  "kernelspec": {
   "display_name": "Python 3",
   "language": "python",
   "name": "python3"
  },
  "language_info": {
   "codemirror_mode": {
    "name": "ipython",
    "version": 2
   },
   "file_extension": ".py",
   "mimetype": "text/x-python",
   "name": "python",
   "nbconvert_exporter": "python",
   "pygments_lexer": "ipython2",
   "version": "2.7.6"
  }
 },
 "nbformat": 4,
 "nbformat_minor": 5
}
