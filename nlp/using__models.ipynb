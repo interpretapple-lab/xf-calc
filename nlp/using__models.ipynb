{
 "cells": [
  {
   "cell_type": "code",
   "id": "initial_id",
   "metadata": {
    "collapsed": true,
    "ExecuteTime": {
     "end_time": "2024-08-22T23:18:15.185128Z",
     "start_time": "2024-08-22T23:18:14.466899Z"
    }
   },
   "source": [
    "import torch\n",
    "from transformers import BertTokenizer, BertForSequenceClassification\n",
    "import spacy"
   ],
   "outputs": [],
   "execution_count": 2
  },
  {
   "metadata": {
    "ExecuteTime": {
     "end_time": "2024-08-22T23:18:15.188707Z",
     "start_time": "2024-08-22T23:18:15.186439Z"
    }
   },
   "cell_type": "code",
   "source": [
    "import warnings\n",
    "warnings.filterwarnings('ignore')"
   ],
   "id": "e87f04a36072a40b",
   "outputs": [],
   "execution_count": 3
  },
  {
   "metadata": {
    "ExecuteTime": {
     "end_time": "2024-08-22T23:18:16.608992Z",
     "start_time": "2024-08-22T23:18:15.189507Z"
    }
   },
   "cell_type": "code",
   "source": [
    "# Load the model\n",
    "model = BertForSequenceClassification.from_pretrained('bert-base-uncased', num_labels=3)\n",
    "checkpoint = torch.load('f_arith_clf.pth')\n",
    "model.load_state_dict(checkpoint['model_state_dict'])\n",
    "model.eval()\n",
    "\n",
    "# Load the tokenizer\n",
    "tokenizer = BertTokenizer.from_pretrained('bert_fuzzy_arithmetic_tokenizer')"
   ],
   "id": "2f9f03cb8492e729",
   "outputs": [
    {
     "name": "stderr",
     "output_type": "stream",
     "text": [
      "A parameter name that contains `beta` will be renamed internally to `bias`. Please use a different name to suppress this warning.\n",
      "A parameter name that contains `gamma` will be renamed internally to `weight`. Please use a different name to suppress this warning.\n",
      "A parameter name that contains `beta` will be renamed internally to `bias`. Please use a different name to suppress this warning.\n",
      "A parameter name that contains `gamma` will be renamed internally to `weight`. Please use a different name to suppress this warning.\n",
      "A parameter name that contains `beta` will be renamed internally to `bias`. Please use a different name to suppress this warning.\n",
      "A parameter name that contains `gamma` will be renamed internally to `weight`. Please use a different name to suppress this warning.\n",
      "A parameter name that contains `beta` will be renamed internally to `bias`. Please use a different name to suppress this warning.\n",
      "A parameter name that contains `gamma` will be renamed internally to `weight`. Please use a different name to suppress this warning.\n",
      "A parameter name that contains `beta` will be renamed internally to `bias`. Please use a different name to suppress this warning.\n",
      "A parameter name that contains `gamma` will be renamed internally to `weight`. Please use a different name to suppress this warning.\n",
      "A parameter name that contains `beta` will be renamed internally to `bias`. Please use a different name to suppress this warning.\n",
      "A parameter name that contains `gamma` will be renamed internally to `weight`. Please use a different name to suppress this warning.\n",
      "A parameter name that contains `beta` will be renamed internally to `bias`. Please use a different name to suppress this warning.\n",
      "A parameter name that contains `gamma` will be renamed internally to `weight`. Please use a different name to suppress this warning.\n",
      "A parameter name that contains `beta` will be renamed internally to `bias`. Please use a different name to suppress this warning.\n",
      "A parameter name that contains `gamma` will be renamed internally to `weight`. Please use a different name to suppress this warning.\n",
      "A parameter name that contains `beta` will be renamed internally to `bias`. Please use a different name to suppress this warning.\n",
      "A parameter name that contains `gamma` will be renamed internally to `weight`. Please use a different name to suppress this warning.\n",
      "A parameter name that contains `beta` will be renamed internally to `bias`. Please use a different name to suppress this warning.\n",
      "A parameter name that contains `gamma` will be renamed internally to `weight`. Please use a different name to suppress this warning.\n",
      "A parameter name that contains `beta` will be renamed internally to `bias`. Please use a different name to suppress this warning.\n",
      "A parameter name that contains `gamma` will be renamed internally to `weight`. Please use a different name to suppress this warning.\n",
      "A parameter name that contains `beta` will be renamed internally to `bias`. Please use a different name to suppress this warning.\n",
      "A parameter name that contains `gamma` will be renamed internally to `weight`. Please use a different name to suppress this warning.\n",
      "A parameter name that contains `beta` will be renamed internally to `bias`. Please use a different name to suppress this warning.\n",
      "A parameter name that contains `gamma` will be renamed internally to `weight`. Please use a different name to suppress this warning.\n",
      "A parameter name that contains `beta` will be renamed internally to `bias`. Please use a different name to suppress this warning.\n",
      "A parameter name that contains `gamma` will be renamed internally to `weight`. Please use a different name to suppress this warning.\n",
      "A parameter name that contains `beta` will be renamed internally to `bias`. Please use a different name to suppress this warning.\n",
      "A parameter name that contains `gamma` will be renamed internally to `weight`. Please use a different name to suppress this warning.\n",
      "A parameter name that contains `beta` will be renamed internally to `bias`. Please use a different name to suppress this warning.\n",
      "A parameter name that contains `gamma` will be renamed internally to `weight`. Please use a different name to suppress this warning.\n",
      "A parameter name that contains `beta` will be renamed internally to `bias`. Please use a different name to suppress this warning.\n",
      "A parameter name that contains `gamma` will be renamed internally to `weight`. Please use a different name to suppress this warning.\n",
      "A parameter name that contains `beta` will be renamed internally to `bias`. Please use a different name to suppress this warning.\n",
      "A parameter name that contains `gamma` will be renamed internally to `weight`. Please use a different name to suppress this warning.\n",
      "A parameter name that contains `beta` will be renamed internally to `bias`. Please use a different name to suppress this warning.\n",
      "A parameter name that contains `gamma` will be renamed internally to `weight`. Please use a different name to suppress this warning.\n",
      "A parameter name that contains `beta` will be renamed internally to `bias`. Please use a different name to suppress this warning.\n",
      "A parameter name that contains `gamma` will be renamed internally to `weight`. Please use a different name to suppress this warning.\n",
      "A parameter name that contains `beta` will be renamed internally to `bias`. Please use a different name to suppress this warning.\n",
      "A parameter name that contains `gamma` will be renamed internally to `weight`. Please use a different name to suppress this warning.\n",
      "A parameter name that contains `beta` will be renamed internally to `bias`. Please use a different name to suppress this warning.\n",
      "A parameter name that contains `gamma` will be renamed internally to `weight`. Please use a different name to suppress this warning.\n",
      "A parameter name that contains `beta` will be renamed internally to `bias`. Please use a different name to suppress this warning.\n",
      "A parameter name that contains `gamma` will be renamed internally to `weight`. Please use a different name to suppress this warning.\n",
      "A parameter name that contains `beta` will be renamed internally to `bias`. Please use a different name to suppress this warning.\n",
      "A parameter name that contains `gamma` will be renamed internally to `weight`. Please use a different name to suppress this warning.\n",
      "A parameter name that contains `beta` will be renamed internally to `bias`. Please use a different name to suppress this warning.\n",
      "A parameter name that contains `gamma` will be renamed internally to `weight`. Please use a different name to suppress this warning.\n",
      "A parameter name that contains `beta` will be renamed internally to `bias`. Please use a different name to suppress this warning.\n",
      "A parameter name that contains `gamma` will be renamed internally to `weight`. Please use a different name to suppress this warning.\n",
      "Some weights of BertForSequenceClassification were not initialized from the model checkpoint at bert-base-uncased and are newly initialized: ['classifier.bias', 'classifier.weight']\n",
      "You should probably TRAIN this model on a down-stream task to be able to use it for predictions and inference.\n"
     ]
    }
   ],
   "execution_count": 4
  },
  {
   "metadata": {
    "ExecuteTime": {
     "end_time": "2024-08-22T23:18:16.613907Z",
     "start_time": "2024-08-22T23:18:16.611603Z"
    }
   },
   "cell_type": "code",
   "source": "device = torch.device('cuda' if torch.cuda.is_available() else 'cpu')",
   "id": "c8a3c0ea07d24735",
   "outputs": [],
   "execution_count": 5
  },
  {
   "metadata": {
    "ExecuteTime": {
     "end_time": "2024-08-22T23:18:16.618409Z",
     "start_time": "2024-08-22T23:18:16.615231Z"
    }
   },
   "cell_type": "code",
   "source": [
    "def predict_arithmetic_type(text, model, tokenizer, device):\n",
    "    inputs = tokenizer(text, return_tensors=\"pt\", truncation=True, padding=True)\n",
    "    inputs = {k: v.to(device) for k, v in inputs.items()}\n",
    "    model.eval()\n",
    "    \n",
    "    # Make prediction\n",
    "    with torch.no_grad():\n",
    "        outputs = model(**inputs)\n",
    "        logits = outputs.logits\n",
    "        predicted_class = torch.argmax(logits, dim=1).item()\n",
    "    \n",
    "    # Mapping the predicted class to the arithmetic type\n",
    "    class_names = ['addition', 'subtraction', 'multiplication']\n",
    "    return class_names[predicted_class]"
   ],
   "id": "41d14ab6d823d325",
   "outputs": [],
   "execution_count": 6
  },
  {
   "metadata": {
    "ExecuteTime": {
     "end_time": "2024-08-22T23:18:16.735369Z",
     "start_time": "2024-08-22T23:18:16.619854Z"
    }
   },
   "cell_type": "code",
   "source": [
    "import spacy\n",
    "import numerizer\n",
    "from spacy.language import Language\n",
    "from spacy.tokens import Doc, Span, SpanGroup\n",
    "import pint\n",
    "\n",
    "ureg = pint.UnitRegistry()\n",
    "ureg.define('USD = [currency] = dollar')\n",
    "ureg.define('cent = 0.01 * USD')\n",
    "\n",
    "# Register the language components\n",
    "@Language.component(\"numerizer_component\")\n",
    "def numerizer_component(doc):\n",
    "    numerized_text = numerizer.numerize(doc.text)\n",
    "    return Doc(doc.vocab, words=numerized_text.split())\n",
    "\n",
    "@Language.component(\"fuzzy_entities\")\n",
    "def fuzzy_entities(doc):\n",
    "    span_group = doc.spans[\"fuzzy_ents\"] = SpanGroup(doc)\n",
    "    fuzzy_term_pos = [\"ADV\", \"ADJ\", \"NOUN\", \"ADP\"]\n",
    "    fuzzy_range_pos = [\"CCONJ\"]\n",
    "    fuzzy_range_terms = [\"to\"] # ADP that can be used as a range term\n",
    "    for i in range(len(doc) - 1):\n",
    "        if i> 0 and (doc[i].like_num or doc[i].text.isdigit()): \n",
    "            if doc[i - 1].pos_ in fuzzy_term_pos:\n",
    "                span_group.append(Span(doc, i - 1, i, label=\"FUZZY_TERM\"))\n",
    "                if i < (len(doc)-1) \\\n",
    "                        and doc[i + 1].pos_ not in fuzzy_range_pos \\\n",
    "                        and doc[i + 1].text not in fuzzy_range_terms:\n",
    "                    span_group.append(Span(doc, i, i + 1, label=\"FUZZY_VALUE\"))\n",
    "            if (doc[i - 1].pos_ in fuzzy_range_pos\n",
    "                or doc[i - 1].text in fuzzy_range_terms) \\\n",
    "                    and (doc[i - 2].like_num or doc[i - 2].text.isdigit()):\n",
    "                span_group.append(Span(doc, i - 2, i + 1, label=\"FUZZY_RANGE\"))\n",
    "        try:\n",
    "            ureg(doc[i].text)\n",
    "            if i > 0 and (doc[i - 1].like_num or doc[i - 1].text.isdigit()):\n",
    "                span_group.append(Span(doc, i, i + 1, label=\"MEASUREMENT_UNIT\"))\n",
    "        except:\n",
    "            continue\n",
    "\n",
    "    return doc"
   ],
   "id": "55bd1109d4ef7bc9",
   "outputs": [],
   "execution_count": 7
  },
  {
   "metadata": {
    "ExecuteTime": {
     "end_time": "2024-08-22T23:18:23.545629Z",
     "start_time": "2024-08-22T23:18:21.700924Z"
    }
   },
   "cell_type": "code",
   "source": [
    "# Load the pipeline\n",
    "nlp = spacy.load(\"f_values.pth\")"
   ],
   "id": "7576824b19291897",
   "outputs": [],
   "execution_count": 11
  },
  {
   "metadata": {
    "ExecuteTime": {
     "end_time": "2024-08-22T23:18:24.769275Z",
     "start_time": "2024-08-22T23:18:24.765830Z"
    }
   },
   "cell_type": "code",
   "source": "text = \"If I have around 5 apples and I get at least 3 more, how many apples do I have in total?\"",
   "id": "5c6441bde6330ece",
   "outputs": [],
   "execution_count": 12
  },
  {
   "metadata": {
    "ExecuteTime": {
     "end_time": "2024-08-22T23:18:25.424571Z",
     "start_time": "2024-08-22T23:18:25.371702Z"
    }
   },
   "cell_type": "code",
   "source": [
    "prediction = predict_arithmetic_type(text, model, tokenizer, device)\n",
    "print(f\"The predicted arithmetic type is: {prediction}\")"
   ],
   "id": "b1e6b8458f502cbf",
   "outputs": [
    {
     "name": "stdout",
     "output_type": "stream",
     "text": [
      "The predicted arithmetic type is: addition\n"
     ]
    }
   ],
   "execution_count": 13
  },
  {
   "metadata": {
    "ExecuteTime": {
     "end_time": "2024-08-22T23:18:27.350085Z",
     "start_time": "2024-08-22T23:18:27.329931Z"
    }
   },
   "cell_type": "code",
   "source": [
    "doc = nlp(text)\n",
    "[(ent.text, ent.label_) for ent in doc.spans[\"fuzzy_ents\"]]"
   ],
   "id": "c16ca4df4fccb6e9",
   "outputs": [
    {
     "data": {
      "text/plain": [
       "[('around', 'FUZZY_TERM'),\n",
       " ('5', 'FUZZY_VALUE'),\n",
       " ('least', 'FUZZY_TERM'),\n",
       " ('3', 'FUZZY_VALUE')]"
      ]
     },
     "execution_count": 14,
     "metadata": {},
     "output_type": "execute_result"
    }
   ],
   "execution_count": 14
  }
 ],
 "metadata": {
  "kernelspec": {
   "display_name": "Python 3",
   "language": "python",
   "name": "python3"
  },
  "language_info": {
   "codemirror_mode": {
    "name": "ipython",
    "version": 2
   },
   "file_extension": ".py",
   "mimetype": "text/x-python",
   "name": "python",
   "nbconvert_exporter": "python",
   "pygments_lexer": "ipython2",
   "version": "2.7.6"
  }
 },
 "nbformat": 4,
 "nbformat_minor": 5
}
