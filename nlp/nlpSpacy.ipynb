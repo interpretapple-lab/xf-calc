{
 "cells": [
  {
   "cell_type": "code",
   "source": [
    "import spacy\n",
    "from spacy.language import Language\n",
    "from spacy.tokens import Doc, Span, SpanGroup\n",
    "import numerizer\n",
    "import pint"
   ],
   "metadata": {
    "collapsed": false,
    "ExecuteTime": {
     "end_time": "2024-08-22T23:17:00.592392Z",
     "start_time": "2024-08-22T23:16:59.126292Z"
    }
   },
   "id": "20997539703245f0",
   "outputs": [],
   "execution_count": 1
  },
  {
   "cell_type": "code",
   "source": [
    "nlp = spacy.load('en_core_web_md')\n",
    "ureg = pint.UnitRegistry()\n",
    "ureg.define('USD = [currency] = dollar')\n",
    "ureg.define('cent = 0.01 * USD')"
   ],
   "metadata": {
    "collapsed": false,
    "ExecuteTime": {
     "end_time": "2024-08-22T23:17:02.856598Z",
     "start_time": "2024-08-22T23:17:00.593704Z"
    }
   },
   "id": "e5c862968b291455",
   "outputs": [],
   "execution_count": 2
  },
  {
   "cell_type": "code",
   "source": [
    "@Language.component(\"numerizer_component\")\n",
    "def numerizer_component(doc):\n",
    "    numerized_text = numerizer.numerize(doc.text)\n",
    "    return Doc(doc.vocab, words=numerized_text.split())"
   ],
   "metadata": {
    "collapsed": false,
    "ExecuteTime": {
     "end_time": "2024-08-22T23:17:02.860707Z",
     "start_time": "2024-08-22T23:17:02.857872Z"
    }
   },
   "id": "9dd9c15b35594cf3",
   "outputs": [],
   "execution_count": 3
  },
  {
   "metadata": {
    "ExecuteTime": {
     "end_time": "2024-08-22T23:17:02.867454Z",
     "start_time": "2024-08-22T23:17:02.862599Z"
    }
   },
   "cell_type": "code",
   "source": [
    "if \"numerizer_component\" in nlp.pipe_names:\n",
    "    nlp.remove_pipe(\"numerizer_component\")\n",
    "nlp.add_pipe(\"numerizer_component\", first=True)"
   ],
   "id": "596f4a70816729f1",
   "outputs": [
    {
     "data": {
      "text/plain": [
       "<function __main__.numerizer_component(doc)>"
      ]
     },
     "execution_count": 4,
     "metadata": {},
     "output_type": "execute_result"
    }
   ],
   "execution_count": 4
  },
  {
   "cell_type": "code",
   "source": [
    "@Language.component(\"fuzzy_entities\")\n",
    "def fuzzy_entities(doc):\n",
    "    span_group = doc.spans[\"fuzzy_ents\"] = SpanGroup(doc)\n",
    "    fuzzy_term_pos = [\"ADV\", \"ADJ\", \"NOUN\", \"ADP\"]\n",
    "    fuzzy_range_pos = [\"CCONJ\"]\n",
    "    fuzzy_range_terms = [\"to\"] # ADP that can be used as a range term\n",
    "    for i in range(len(doc) - 1):\n",
    "        if i> 0 and (doc[i].like_num or doc[i].text.isdigit()): \n",
    "            if doc[i - 1].pos_ in fuzzy_term_pos:\n",
    "                span_group.append(Span(doc, i - 1, i, label=\"FUZZY_TERM\"))\n",
    "                if i < (len(doc)-1) \\\n",
    "                        and doc[i + 1].pos_ not in fuzzy_range_pos \\\n",
    "                        and doc[i + 1].text not in fuzzy_range_terms:\n",
    "                    span_group.append(Span(doc, i, i + 1, label=\"FUZZY_VALUE\"))\n",
    "            if (doc[i - 1].pos_ in fuzzy_range_pos\n",
    "                or doc[i - 1].text in fuzzy_range_terms) \\\n",
    "                    and (doc[i - 2].like_num or doc[i - 2].text.isdigit()):\n",
    "                span_group.append(Span(doc, i - 2, i + 1, label=\"FUZZY_RANGE\"))\n",
    "        try:\n",
    "            ureg(doc[i].text)\n",
    "            if i > 0 and (doc[i - 1].like_num or doc[i - 1].text.isdigit()):\n",
    "                span_group.append(Span(doc, i, i + 1, label=\"MEASUREMENT_UNIT\"))\n",
    "        except:\n",
    "            continue\n",
    "\n",
    "    return doc"
   ],
   "metadata": {
    "collapsed": false,
    "ExecuteTime": {
     "end_time": "2024-08-22T23:17:02.873193Z",
     "start_time": "2024-08-22T23:17:02.868392Z"
    }
   },
   "id": "e1a374af425a3e51",
   "outputs": [],
   "execution_count": 5
  },
  {
   "cell_type": "code",
   "source": [
    "if \"fuzzy_entities\" in nlp.pipe_names:\n",
    "    nlp.remove_pipe(\"fuzzy_entities\")\n",
    "nlp.add_pipe(\"fuzzy_entities\", after=\"ner\")"
   ],
   "metadata": {
    "collapsed": false,
    "ExecuteTime": {
     "end_time": "2024-08-22T23:17:02.878295Z",
     "start_time": "2024-08-22T23:17:02.874148Z"
    }
   },
   "id": "a4c049bebbf60718",
   "outputs": [
    {
     "data": {
      "text/plain": [
       "<function __main__.fuzzy_entities(doc)>"
      ]
     },
     "execution_count": 6,
     "metadata": {},
     "output_type": "execute_result"
    }
   ],
   "execution_count": 6
  },
  {
   "cell_type": "code",
   "source": [
    "doc = nlp(\"My break lasts from 40 to 50 minutes, and I take around 10 and a half minutes to eat a lunch, how much time do I have left to rest?\")\n",
    "[(ent.text, ent.label_) for ent in doc.spans[\"fuzzy_ents\"]]"
   ],
   "metadata": {
    "collapsed": false,
    "ExecuteTime": {
     "end_time": "2024-08-22T23:17:02.898185Z",
     "start_time": "2024-08-22T23:17:02.879245Z"
    }
   },
   "id": "1217c0e8cd98aac",
   "outputs": [
    {
     "data": {
      "text/plain": [
       "[('from', 'FUZZY_TERM'),\n",
       " ('40 to 50', 'FUZZY_RANGE'),\n",
       " ('minutes,', 'MEASUREMENT_UNIT'),\n",
       " ('around', 'FUZZY_TERM'),\n",
       " ('10.5', 'FUZZY_VALUE'),\n",
       " ('minutes', 'MEASUREMENT_UNIT')]"
      ]
     },
     "execution_count": 7,
     "metadata": {},
     "output_type": "execute_result"
    }
   ],
   "execution_count": 7
  },
  {
   "cell_type": "code",
   "source": "nlp.to_disk(\"f_values.pth\")",
   "metadata": {
    "collapsed": false,
    "ExecuteTime": {
     "end_time": "2024-08-22T23:17:03.220457Z",
     "start_time": "2024-08-22T23:17:02.899234Z"
    }
   },
   "id": "91b2b0e6fd370b17",
   "outputs": [],
   "execution_count": 8
  },
  {
   "metadata": {
    "ExecuteTime": {
     "end_time": "2024-08-22T23:17:03.223074Z",
     "start_time": "2024-08-22T23:17:03.221435Z"
    }
   },
   "cell_type": "code",
   "source": "",
   "id": "726949e8747ba0e9",
   "outputs": [],
   "execution_count": 8
  }
 ],
 "metadata": {
  "kernelspec": {
   "display_name": "Python 3",
   "language": "python",
   "name": "python3"
  },
  "language_info": {
   "codemirror_mode": {
    "name": "ipython",
    "version": 2
   },
   "file_extension": ".py",
   "mimetype": "text/x-python",
   "name": "python",
   "nbconvert_exporter": "python",
   "pygments_lexer": "ipython2",
   "version": "2.7.6"
  }
 },
 "nbformat": 4,
 "nbformat_minor": 5
}
